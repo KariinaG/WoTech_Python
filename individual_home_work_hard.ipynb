{
  "nbformat": 4,
  "nbformat_minor": 0,
  "metadata": {
    "colab": {
      "provenance": [],
      "authorship_tag": "ABX9TyMSFWXSSJFo97FRCTGG8pop",
      "include_colab_link": true
    },
    "kernelspec": {
      "name": "python3",
      "display_name": "Python 3"
    },
    "language_info": {
      "name": "python"
    }
  },
  "cells": [
    {
      "cell_type": "markdown",
      "metadata": {
        "id": "view-in-github",
        "colab_type": "text"
      },
      "source": [
        "<a href=\"https://colab.research.google.com/github/KariinaG/WoTech_Python/blob/main/individual_home_work_hard.ipynb\" target=\"_parent\"><img src=\"https://colab.research.google.com/assets/colab-badge.svg\" alt=\"Open In Colab\"/></a>"
      ]
    },
    {
      "cell_type": "markdown",
      "source": [
        "1. Add bank withdrawal (if user wants to withdraw money the balance decreases)\n",
        "2. If the balance becomes negative, withdrawal is not possible.\n",
        "3. Add check balance optionality\n",
        "Example for hard level:\n",
        "   print(\"\\nWhat would you like to do?\")\n",
        "   print(\"1. Deposit money\")\n",
        "   print(\"2. Withdraw money\")\n",
        "   print(\"3. Check balance\")\n",
        "   print(\"4. Exit\")"
      ],
      "metadata": {
        "id": "Pb2RBDu8xWke"
      }
    },
    {
      "cell_type": "code",
      "source": [
        "print(\"Welcome to our bank! It's nice to see you here!\")\n",
        "begining_balance = 0\n",
        "deposited = 0\n",
        "withdraw = 0\n",
        "check_balance = 0\n",
        "\n",
        "while True:\n",
        "  print(\"\\nWhat you would like to do?\")\n",
        "  print(\"Deposit money write 1\")\n",
        "  print(\"Withdraw money write 2\")\n",
        "  print(\"Check balance write 3\")\n",
        "  print(\"Exit write exit\")\n",
        "  action = input()\n",
        "\n",
        "  if action == '1':\n",
        "    try:\n",
        "      what_amount = int(input(\"\\nprovide amount of money you would like to deposit: \"))\n",
        "    except:\n",
        "      print(\"\\nplease provide numbers!\")\n",
        "      continue\n",
        "    deposited += what_amount\n",
        "  if action == '2':\n",
        "    try:\n",
        "      how_much = int(input(\"\\nprovide amount of money you would like to withdraw: \"))\n",
        "    except:\n",
        "      print(\"\\nplease provide numbers!\")\n",
        "      continue\n",
        "    withdraw += how_much\n",
        "    check_balance = begining_balance + deposited - withdraw\n",
        "    if check_balance < 0:\n",
        "      withdraw -= how_much\n",
        "      print(\"\\nwithdrawal IS NOT POSSIBLE, there is not enough money! Last action is canceled\")\n",
        "\n",
        "  if action == '3':\n",
        "      check_balance = begining_balance + deposited - withdraw\n",
        "      print(f'\\ndeposited:{deposited} withdrawal:{withdraw} actual balance:{check_balance}')\n",
        "  if action.lower() == 'exit':\n",
        "      check_balance = begining_balance + deposited - withdraw\n",
        "      print(f'\\nyour account blance was: {begining_balance}, in total you deposited: {deposited}, you withdrawal {withdraw} and now your balance is {check_balance}')\n",
        "      break"
      ],
      "metadata": {
        "id": "adIlmhuCyl4M"
      },
      "execution_count": null,
      "outputs": []
    }
  ]
}