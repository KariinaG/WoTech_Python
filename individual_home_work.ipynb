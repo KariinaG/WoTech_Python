{
  "nbformat": 4,
  "nbformat_minor": 0,
  "metadata": {
    "colab": {
      "provenance": [],
      "authorship_tag": "ABX9TyNA22mwO/Z1+3PSSb581WY6",
      "include_colab_link": true
    },
    "kernelspec": {
      "name": "python3",
      "display_name": "Python 3"
    },
    "language_info": {
      "name": "python"
    }
  },
  "cells": [
    {
      "cell_type": "markdown",
      "metadata": {
        "id": "view-in-github",
        "colab_type": "text"
      },
      "source": [
        "<a href=\"https://colab.research.google.com/github/KariinaG/WoTech_Python/blob/main/individual_home_work.ipynb\" target=\"_parent\"><img src=\"https://colab.research.google.com/assets/colab-badge.svg\" alt=\"Open In Colab\"/></a>"
      ]
    },
    {
      "cell_type": "markdown",
      "source": [
        "Create a program where the user can input deposits into a bank account. The program should use `if-else` statements, `input()`, `int()` and while True loop to keep track of deposits.\n",
        "\n",
        "**Instructions:**\n",
        "1. Welcome the user to the bank\n",
        "2. Initiate balance = 0\n",
        "3. Ask the user to input the amount of money they want to deposit.\n",
        "4. Add the deposit amount to the total balance\n",
        "5. Ask the user if they want to make another deposit or exit the bank.\n",
        "6. If they choose to make another deposit, repeat the process (while True).\n",
        "7. If not, print the total amount deposited and exit the bank."
      ],
      "metadata": {
        "id": "gt6Hamef5T1U"
      }
    },
    {
      "cell_type": "code",
      "execution_count": 2,
      "metadata": {
        "id": "1Cemyx2E5TEO",
        "colab": {
          "base_uri": "https://localhost:8080/"
        },
        "outputId": "0bfcf553-2c0d-454e-bc07-822d3671f8a2"
      },
      "outputs": [
        {
          "output_type": "stream",
          "name": "stdout",
          "text": [
            "Welcome to our bank! It's nice to see you here!\n",
            "provide amount of money you would like to deposit: 5\n",
            "do you want to make another deposit? press 'Enter' , if you want to exit type 'exit' \n",
            "\n",
            "provide amount of money you would like to deposit: k\n",
            "please provide numbers\n",
            "provide amount of money you would like to deposit: 5\n",
            "do you want to make another deposit? press 'Enter' , if you want to exit type 'exit' \n",
            "exit\n",
            "your previous account blance was: 0, in total you deposited: 10 and now your balance is 10 \n"
          ]
        }
      ],
      "source": [
        "\n",
        "print(\"Welcome to our bank! It's nice to see you here!\")\n",
        "begining_balance = 0\n",
        "deposited = 0\n",
        "\n",
        "while True:\n",
        "  try:\n",
        "    what_amount = int(input(\"provide amount of money you would like to deposit: \"))\n",
        "  except:\n",
        "    print(\"please provide numbers\")\n",
        "    continue\n",
        "  deposited += what_amount\n",
        "  print(\"do you want to make another deposit? press 'Enter' , if you want to exit type 'exit' \")\n",
        "  next_move = input()\n",
        "  if next_move.lower() == 'exit':\n",
        "    new_balance = begining_balance + deposited\n",
        "    print(f'your previous account blance was: {begining_balance}, in total you deposited: {deposited} and now your balance is {new_balance} ')\n",
        "    break\n",
        "\n",
        "\n",
        "\n",
        "\n",
        "\n",
        "\n"
      ]
    }
  ]
}